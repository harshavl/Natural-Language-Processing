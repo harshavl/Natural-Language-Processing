{
 "cells": [
  {
   "cell_type": "code",
   "execution_count": null,
   "metadata": {
    "collapsed": true
   },
   "outputs": [],
   "source": []
  },
  {
   "cell_type": "markdown",
   "metadata": {},
   "source": [
    "## 1. Converting Text Data to Lowercase <br>\n",
    "lower()"
   ]
  },
  {
   "cell_type": "code",
   "execution_count": 2,
   "metadata": {
    "collapsed": true
   },
   "outputs": [],
   "source": [
    "import pandas as pd\n"
   ]
  },
  {
   "cell_type": "code",
   "execution_count": 14,
   "metadata": {},
   "outputs": [
    {
     "data": {
      "text/html": [
       "<div>\n",
       "<style>\n",
       "    .dataframe thead tr:only-child th {\n",
       "        text-align: right;\n",
       "    }\n",
       "\n",
       "    .dataframe thead th {\n",
       "        text-align: left;\n",
       "    }\n",
       "\n",
       "    .dataframe tbody tr th {\n",
       "        vertical-align: top;\n",
       "    }\n",
       "</style>\n",
       "<table border=\"1\" class=\"dataframe\">\n",
       "  <thead>\n",
       "    <tr style=\"text-align: right;\">\n",
       "      <th></th>\n",
       "      <th>tweet</th>\n",
       "    </tr>\n",
       "  </thead>\n",
       "  <tbody>\n",
       "    <tr>\n",
       "      <th>0</th>\n",
       "      <td>This is introduction to NLP</td>\n",
       "    </tr>\n",
       "    <tr>\n",
       "      <th>1</th>\n",
       "      <td>It is likely to be useful, to people</td>\n",
       "    </tr>\n",
       "    <tr>\n",
       "      <th>2</th>\n",
       "      <td>Machine learning is the new electrcity</td>\n",
       "    </tr>\n",
       "    <tr>\n",
       "      <th>3</th>\n",
       "      <td>There would be less hype around AI and more ac...</td>\n",
       "    </tr>\n",
       "    <tr>\n",
       "      <th>4</th>\n",
       "      <td>python is the best tool!</td>\n",
       "    </tr>\n",
       "    <tr>\n",
       "      <th>5</th>\n",
       "      <td>R is good langauage</td>\n",
       "    </tr>\n",
       "    <tr>\n",
       "      <th>6</th>\n",
       "      <td>I like this book</td>\n",
       "    </tr>\n",
       "    <tr>\n",
       "      <th>7</th>\n",
       "      <td>I want more books like this</td>\n",
       "    </tr>\n",
       "  </tbody>\n",
       "</table>\n",
       "</div>"
      ],
      "text/plain": [
       "                                               tweet\n",
       "0                        This is introduction to NLP\n",
       "1              It is likely to be useful, to people \n",
       "2             Machine learning is the new electrcity\n",
       "3  There would be less hype around AI and more ac...\n",
       "4                           python is the best tool!\n",
       "5                                R is good langauage\n",
       "6                                   I like this book\n",
       "7                        I want more books like this"
      ]
     },
     "execution_count": 14,
     "metadata": {},
     "output_type": "execute_result"
    }
   ],
   "source": [
    "text=['This is introduction to NLP','It is likely to be useful, to people ','Machine learning is the new electrcity','There would be less hype around AI and more action going forward','python is the best tool!','R is good langauage','I like this book','I want more books like this']\n",
    "\n",
    "df = pd.DataFrame({'tweet': text})\n",
    "df"
   ]
  },
  {
   "cell_type": "code",
   "execution_count": 15,
   "metadata": {},
   "outputs": [
    {
     "name": "stdout",
     "output_type": "stream",
     "text": [
      "testing this\n"
     ]
    }
   ],
   "source": [
    "# Example:\n",
    "\n",
    "x = 'Testing This'\n",
    "x2 = x.lower()\n",
    "print(x2)"
   ]
  },
  {
   "cell_type": "code",
   "execution_count": 16,
   "metadata": {},
   "outputs": [
    {
     "data": {
      "text/plain": [
       "0                          this is introduction to nlp\n",
       "1                 it is likely to be useful, to people\n",
       "2               machine learning is the new electrcity\n",
       "3    there would be less hype around ai and more ac...\n",
       "4                             python is the best tool!\n",
       "5                                  r is good langauage\n",
       "6                                     i like this book\n",
       "7                          i want more books like this\n",
       "Name: tweet, dtype: object"
      ]
     },
     "execution_count": 16,
     "metadata": {},
     "output_type": "execute_result"
    }
   ],
   "source": [
    "df['tweet'] = df['tweet'].apply( lambda x: \" \".join(x.lower() for x in x.split() ))\n",
    "df['tweet']"
   ]
  },
  {
   "cell_type": "markdown",
   "metadata": {},
   "source": [
    "## 2. Removing Punctuation <br>\n",
    "This helps to reduce the size of the data and increase computational efficiency.<br>\n",
    "replace()"
   ]
  },
  {
   "cell_type": "code",
   "execution_count": 19,
   "metadata": {},
   "outputs": [
    {
     "name": "stdout",
     "output_type": "stream",
     "text": [
      "I like this book\n"
     ]
    }
   ],
   "source": [
    "import re\n",
    "\n",
    "s = \"I. like. this book!\"\n",
    "s1 = re.sub(r'[^\\w\\s]','', s)\n",
    "print(s1)\n"
   ]
  },
  {
   "cell_type": "code",
   "execution_count": 20,
   "metadata": {},
   "outputs": [
    {
     "data": {
      "text/plain": [
       "'I like this book'"
      ]
     },
     "execution_count": 20,
     "metadata": {},
     "output_type": "execute_result"
    }
   ],
   "source": [
    "import string\n",
    "\n",
    "for c in string.punctuation:\n",
    "    s = s.replace(c,'')\n",
    "s    \n"
   ]
  },
  {
   "cell_type": "code",
   "execution_count": 21,
   "metadata": {},
   "outputs": [
    {
     "data": {
      "text/plain": [
       "0                          this is introduction to nlp\n",
       "1                  it is likely to be useful to people\n",
       "2               machine learning is the new electrcity\n",
       "3    there would be less hype around ai and more ac...\n",
       "4                              python is the best tool\n",
       "5                                  r is good langauage\n",
       "6                                     i like this book\n",
       "7                          i want more books like this\n",
       "Name: tweet, dtype: object"
      ]
     },
     "execution_count": 21,
     "metadata": {},
     "output_type": "execute_result"
    }
   ],
   "source": [
    "df['tweet'] = df['tweet'].str.replace('[^\\w\\s]','')\n",
    "df['tweet']"
   ]
  },
  {
   "cell_type": "markdown",
   "metadata": {},
   "source": [
    "## 3. Removing stop words<br>\n",
    "stop words are very common words that carry on meaning or less meaning compare to keywords.<br>\n",
    "\n",
    "example: How to develop chatbot using python ? <br>\n",
    "How and to are stop words and develop,chatbot and python are keywords.<br>\n",
    "similarly, can remove more common words and rare words as well.<br>\n",
    "\n",
    "using NLTK library."
   ]
  },
  {
   "cell_type": "code",
   "execution_count": 25,
   "metadata": {},
   "outputs": [
    {
     "name": "stdout",
     "output_type": "stream",
     "text": [
      "[nltk_data] Downloading package stopwords to /home/harsha/nltk_data...\n",
      "[nltk_data]   Package stopwords is already up-to-date!\n",
      "0                                This introduction NLP\n",
      "1                             It likely useful, people\n",
      "2                      Machine learning new electrcity\n",
      "3    There would less hype around AI action going f...\n",
      "4                                    python best tool!\n",
      "5                                     R good langauage\n",
      "6                                          I like book\n",
      "7                                    I want books like\n",
      "Name: tweet, dtype: object\n"
     ]
    }
   ],
   "source": [
    "!python ./nlp_process_data/remove_stop_words.py"
   ]
  },
  {
   "cell_type": "markdown",
   "metadata": {},
   "source": [
    "## 4.Standardizing Text<br>\n",
    "Most of the text data are in the customer reviews, blogs or tweets.so, high chance of using short words and abbreviations.<br>\n",
    "Use dict.<br>"
   ]
  },
  {
   "cell_type": "code",
   "execution_count": 36,
   "metadata": {},
   "outputs": [
    {
     "name": "stdout",
     "output_type": "stream",
     "text": [
      "natural language processing your what about you\n"
     ]
    }
   ],
   "source": [
    "#create custom look dict\n",
    "import re\n",
    "\n",
    "lookup_dict = {'nlp':'natural language processing', 'ur':'your', \"wbu\" : \"what about you\"}\n",
    "\n",
    "def text_std(input_text):\n",
    "     words = input_text.split()\n",
    "     new_words = []\n",
    "     for word in words:\n",
    "         word = re.sub(r'[^\\w\\s]',\"\",word)\n",
    "         if word.lower() in lookup_dict:\n",
    "             word = lookup_dict[word.lower()]\n",
    "             new_words.append(word)\n",
    "             new_text = \" \".join(new_words)\n",
    "     return new_text\n",
    "\n",
    "print( text_std(\"I like nlp and it's ur choise, wbu\"))\n"
   ]
  },
  {
   "cell_type": "markdown",
   "metadata": {},
   "source": [
    "## 5. Correcting Spelling<br>\n",
    "Using TextBlob Library<br>\n"
   ]
  },
  {
   "cell_type": "code",
   "execution_count": 37,
   "metadata": {
    "collapsed": true
   },
   "outputs": [],
   "source": [
    "from textblob import TextBlob"
   ]
  },
  {
   "cell_type": "code",
   "execution_count": 39,
   "metadata": {},
   "outputs": [
    {
     "data": {
      "text/html": [
       "<div>\n",
       "<style>\n",
       "    .dataframe thead tr:only-child th {\n",
       "        text-align: right;\n",
       "    }\n",
       "\n",
       "    .dataframe thead th {\n",
       "        text-align: left;\n",
       "    }\n",
       "\n",
       "    .dataframe tbody tr th {\n",
       "        vertical-align: top;\n",
       "    }\n",
       "</style>\n",
       "<table border=\"1\" class=\"dataframe\">\n",
       "  <thead>\n",
       "    <tr style=\"text-align: right;\">\n",
       "      <th></th>\n",
       "      <th>tweet</th>\n",
       "    </tr>\n",
       "  </thead>\n",
       "  <tbody>\n",
       "    <tr>\n",
       "      <th>0</th>\n",
       "      <td>this is introduction to nlp</td>\n",
       "    </tr>\n",
       "    <tr>\n",
       "      <th>1</th>\n",
       "      <td>it is likely to be useful to people</td>\n",
       "    </tr>\n",
       "    <tr>\n",
       "      <th>2</th>\n",
       "      <td>machine learning is the new electrcity</td>\n",
       "    </tr>\n",
       "    <tr>\n",
       "      <th>3</th>\n",
       "      <td>there would be less hype around ai and more ac...</td>\n",
       "    </tr>\n",
       "    <tr>\n",
       "      <th>4</th>\n",
       "      <td>python is the best tool</td>\n",
       "    </tr>\n",
       "    <tr>\n",
       "      <th>5</th>\n",
       "      <td>r is good langauage</td>\n",
       "    </tr>\n",
       "    <tr>\n",
       "      <th>6</th>\n",
       "      <td>i like this book</td>\n",
       "    </tr>\n",
       "    <tr>\n",
       "      <th>7</th>\n",
       "      <td>i want more books like this</td>\n",
       "    </tr>\n",
       "  </tbody>\n",
       "</table>\n",
       "</div>"
      ],
      "text/plain": [
       "                                               tweet\n",
       "0                        this is introduction to nlp\n",
       "1                it is likely to be useful to people\n",
       "2             machine learning is the new electrcity\n",
       "3  there would be less hype around ai and more ac...\n",
       "4                            python is the best tool\n",
       "5                                r is good langauage\n",
       "6                                   i like this book\n",
       "7                        i want more books like this"
      ]
     },
     "execution_count": 39,
     "metadata": {},
     "output_type": "execute_result"
    }
   ],
   "source": [
    "df"
   ]
  },
  {
   "cell_type": "code",
   "execution_count": 40,
   "metadata": {},
   "outputs": [
    {
     "data": {
      "text/plain": [
       "0                          this is introduction to nap\n",
       "1                  it is likely to be useful to people\n",
       "2              machine learning is the new electricity\n",
       "3    there would be less hope around ai and more ac...\n",
       "4                              patron is the best tool\n",
       "5                                   r is good language\n",
       "6                                     i like this book\n",
       "7                          i want more books like this\n",
       "Name: tweet, dtype: object"
      ]
     },
     "execution_count": 40,
     "metadata": {},
     "output_type": "execute_result"
    }
   ],
   "source": [
    "df['tweet'].apply(lambda x: str(TextBlob(x).correct()))"
   ]
  },
  {
   "cell_type": "code",
   "execution_count": 41,
   "metadata": {},
   "outputs": [
    {
     "name": "stdout",
     "output_type": "stream",
     "text": [
      "message\n",
      "service\n"
     ]
    }
   ],
   "source": [
    "from autocorrect import spell\n",
    "\n",
    "print(spell(u'mussage'))\n",
    "print(spell(u'sirvice'))"
   ]
  },
  {
   "cell_type": "markdown",
   "metadata": {},
   "source": [
    "## 6. Tokenizing Text <br>\n",
    "This referes to splitting text into minimal meaningful units.\n",
    "using NLTK, Spacy and TextBlob"
   ]
  },
  {
   "cell_type": "code",
   "execution_count": 43,
   "metadata": {},
   "outputs": [
    {
     "data": {
      "text/plain": [
       "WordList(['there', 'would', 'be', 'less', 'hype', 'around', 'ai', 'and', 'more', 'action', 'going', 'forward'])"
      ]
     },
     "execution_count": 43,
     "metadata": {},
     "output_type": "execute_result"
    }
   ],
   "source": [
    "#Using textblob\n",
    "from textblob import TextBlob\n",
    "\n",
    "TextBlob(df['tweet'][3]).words"
   ]
  },
  {
   "cell_type": "code",
   "execution_count": 46,
   "metadata": {},
   "outputs": [
    {
     "name": "stdout",
     "output_type": "stream",
     "text": [
      "['My', 'favorite', 'animal', 'is', 'cat']\n",
      "['My', 'favorite', 'animal', 'is', 'cat']\n"
     ]
    }
   ],
   "source": [
    "#using NLTK\n",
    "import nltk\n",
    "\n",
    "#create data\n",
    "mystring = \"My favorite animal is cat\"\n",
    "\n",
    "print( nltk.word_tokenize(mystring) )\n",
    "print( mystring.split() )\n"
   ]
  },
  {
   "cell_type": "markdown",
   "metadata": {},
   "source": [
    "## 7. stemming <br>\n",
    "Process of extracting a root word.<br>\n",
    "Example, fish, fishes and fishing are stemmed into fish <br>\n",
    "Using NLTK or TextBlob Libray"
   ]
  },
  {
   "cell_type": "code",
   "execution_count": 47,
   "metadata": {},
   "outputs": [
    {
     "name": "stdout",
     "output_type": "stream",
     "text": [
      "                            tweet\n",
      "0                  I like fishing\n",
      "1                      I eat fish\n",
      "2  There are many fishes in pound\n"
     ]
    }
   ],
   "source": [
    "\n",
    "text=['I like fishing','I eat fish','There are many fishes in pound']\n",
    "\n",
    "df = pd.DataFrame({'tweet':text})\n",
    "print(df)"
   ]
  },
  {
   "cell_type": "code",
   "execution_count": 52,
   "metadata": {},
   "outputs": [
    {
     "name": "stdout",
     "output_type": "stream",
     "text": [
      "0                     I like fish\n",
      "1                      I eat fish\n",
      "2    there are mani fish in pound\n",
      "Name: tweet, dtype: object\n"
     ]
    }
   ],
   "source": [
    "from nltk.stem import PorterStemmer\n",
    "\n",
    "st = PorterStemmer()\n",
    "\n",
    "print( df['tweet'][:5].apply(lambda x: \" \".join([st.stem(word) for word in x.split()])) ) #stemmed to fish\n",
    "\n",
    "\n"
   ]
  },
  {
   "cell_type": "markdown",
   "metadata": {},
   "source": [
    "## 8.Lemmatizing <br>\n",
    "Process of extracting a root word by considering vocabulary. <br>\n",
    "Example, good, better or best is lemmatizing into good. <br>\n",
    "\n",
    "The stemmed form of leafs is leafs is leaf and leaves is leav. <br>\n",
    "The lemmatized form of leafs is leaf and **leaves is leaf**. <br>"
   ]
  },
  {
   "cell_type": "code",
   "execution_count": 54,
   "metadata": {},
   "outputs": [
    {
     "name": "stdout",
     "output_type": "stream",
     "text": [
      "                            tweet\n",
      "0                  I like fishing\n",
      "1                      I eat fish\n",
      "2  There are many fishes in pound\n",
      "3                 leaves and leaf\n"
     ]
    }
   ],
   "source": [
    "\n",
    "text = ['I like fishing','I eat fish','There are many fishes in pound', 'leaves and leaf']\n",
    "\n",
    "df = pd.DataFrame({'tweet':text})\n",
    "\n",
    "print(df)"
   ]
  },
  {
   "cell_type": "code",
   "execution_count": 55,
   "metadata": {},
   "outputs": [
    {
     "data": {
      "text/plain": [
       "0                  I like fishing\n",
       "1                      I eat fish\n",
       "2    There are many fish in pound\n",
       "3                   leaf and leaf\n",
       "Name: tweet, dtype: object"
      ]
     },
     "execution_count": 55,
     "metadata": {},
     "output_type": "execute_result"
    }
   ],
   "source": [
    "from textblob import Word\n",
    "\n",
    "df['tweet'] = df['tweet'].apply(lambda x: \" \".join([Word(word).lemmatize() for word in x.split()]))\n",
    "\n",
    "df['tweet']"
   ]
  },
  {
   "cell_type": "markdown",
   "metadata": {},
   "source": [
    "## 9. Exploring Text Data<br>\n"
   ]
  },
  {
   "cell_type": "code",
   "execution_count": 56,
   "metadata": {},
   "outputs": [
    {
     "name": "stdout",
     "output_type": "stream",
     "text": [
      "[nltk_data] Downloading package webtext to /home/harsha/nltk_data...\n",
      "[nltk_data]   Package webtext is already up-to-date!\n",
      "1142\n",
      "102457\n"
     ]
    }
   ],
   "source": [
    "import nltk\n",
    "\n",
    "from nltk.corpus import webtext\n",
    "nltk.download('webtext')\n",
    "wt_sentences = webtext.sents('firefox.txt')\n",
    "wt_words = webtext.words('firefox.txt')\n",
    "\n",
    "from nltk.probability import FreqDist\n",
    "from nltk.corpus import stopwords\n",
    "import string\n",
    "\n",
    "print(len(wt_sentences))\n",
    "print(len(wt_words))"
   ]
  },
  {
   "cell_type": "code",
   "execution_count": 60,
   "metadata": {},
   "outputs": [
    {
     "data": {
      "image/png": "[encoded data removed]",
      "text/plain": [
       "<matplotlib.figure.Figure at 0x7feaf29b2518>"
      ]
     },
     "metadata": {},
     "output_type": "display_data"
    }
   ],
   "source": [
    "frequency_dist = nltk.FreqDist(wt_words)\n",
    "\n",
    "sorted_frequency_dist =sorted(frequency_dist,key=frequency_dist.__getitem__, reverse=True)\n",
    "large_words = dict([(k,v) for k,v in frequency_dist.items() if len(k)>3])\n",
    "frequency_dist = nltk.FreqDist(large_words)\n",
    "frequency_dist.plot(50,cumulative=False)"
   ]
  },
  {
   "cell_type": "code",
   "execution_count": 62,
   "metadata": {},
   "outputs": [
    {
     "data": {
      "image/png": "[encoded data removed]",
      "text/plain": [
       "<matplotlib.figure.Figure at 0x7feaf26dfeb8>"
      ]
     },
     "metadata": {},
     "output_type": "display_data"
    }
   ],
   "source": [
    "# build word cloud\n",
    "\n",
    "from wordcloud import WordCloud\n",
    "import matplotlib.pyplot as plt\n",
    "\n",
    "wcloud = WordCloud().generate_from_frequencies(frequency_dist)\n",
    "plt.imshow(wcloud, interpolation=\"bilinear\")\n",
    "plt.axis(\"off\")\n",
    "(-0.5, 399.5, 199.5, -0.5)\n",
    "plt.show()"
   ]
  },
  {
   "cell_type": "markdown",
   "metadata": {},
   "source": [
    "## 10. Building a Text Preprocessing pipeline<br>\n",
    "end-to-end text preprocessing pipeline.\n"
   ]
  },
  {
   "cell_type": "code",
   "execution_count": 2,
   "metadata": {
    "collapsed": true
   },
   "outputs": [],
   "source": [
    "tweet_sample= \"How to take control of your #debt https://personal.vanguard.com/us/insights/saving-investing/debt-management.#Best advice for #family #financial #success (@PrepareToWin)\""
   ]
  },
  {
   "cell_type": "code",
   "execution_count": 3,
   "metadata": {
    "collapsed": true
   },
   "outputs": [],
   "source": [
    "import re\n",
    "import nltk\n",
    "from textblob import TextBlob\n",
    "from nltk.corpus import stopwords\n",
    "from nltk.stem import PorterStemmer\n",
    "from textblob import Word\n",
    "from nltk.util import ngrams\n",
    "import re\n",
    "from wordcloud import WordCloud, STOPWORDS\n",
    "from nltk.tokenize import word_tokenize"
   ]
  },
  {
   "cell_type": "code",
   "execution_count": 18,
   "metadata": {},
   "outputs": [
    {
     "name": "stdout",
     "output_type": "stream",
     "text": [
      "H o w t o t a k e c o n t r o l o f y o u r d e b t U R L a d v i c e f o r f a m i l y f i n a n c i a l s u c c e s s A T _ U S E R\n"
     ]
    }
   ],
   "source": [
    "#following are the text processing steps\n",
    "\n",
    "\n",
    "tweet = tweet_sample\n",
    "# convert to lowercase\n",
    "tweet.lower()\n",
    "#removes unicode\n",
    "tweet = re.sub(r'(\\\\u[0-9A-Fa-f]+)',r\"\", tweet)\n",
    "tweet = re.sub(r'[^\\x00-\\x7f]',r\"\",tweet)\n",
    "#convert any url to URL\n",
    "tweet = re.sub('((www\\.[^\\s]+)|(https?://[^\\s]+))','URL',tweet)\n",
    "#convert any @username to \"AT_USER\"\n",
    "\n",
    "tweet = re.sub('@[^\\s]+', 'AT_USER', tweet) \n",
    "#remove additional white spaces\n",
    "tweet = re.sub('[\\s]+', ' ', tweet )\n",
    "tweet = re.sub('[\\n]+', ' ', tweet )\n",
    "#remove not alphanumeric sysmbols white spaces\n",
    "tweet = re.sub(r'[^\\w]','', tweet)\n",
    "#removes hashtag in front of a word \"\"\"\n",
    "tweet = re.sub(r'#( [^\\s]+)', r'\\1', tweet )\n",
    "#replace #word with word\n",
    "tweet = re.sub(r'#([^\\s]+)', r'\\1', tweet)\n",
    "# remove :( or :)\n",
    "tweet = tweet.replace(':)',\"\")\n",
    "tweet = tweet.replace(':(',\"\")\n",
    "#remove numbers\n",
    "tweet = \" \".join([i for i in tweet if not i.isdigit()])\n",
    "#remove multiple exclamation\n",
    "tweet = re.sub(r\"(\\!)\\1+\", ' ', tweet)\n",
    "#remove multiple question marks\n",
    "tweet = re.sub(r\"(\\?)\\1+\", ' ', tweet)\n",
    "#remove multistop\n",
    "tweet = re.sub(r\"(\\.)\\1+\", ' ', tweet)\n",
    "#lemma\n",
    "from textblob import Word\n",
    "\n",
    "tweet =\" \".join([Word(word).lemmatize() for word in tweet.split()] )\n",
    "\n",
    "# OR stemmer\n",
    "#st = PorterStemmer()\n",
    "#tweet=\" \".join([st.stem(word) for word in tweet.split()])\n",
    "#Removes emoticons from text\n",
    "\n",
    "tweet = re.sub(':\\)|;\\)|:-\\)|\\(-:|:-D|=D|:P|xD|X-p|\\^\\^|:-*|\\^\\.\\^|\\^\\-\\^|\\^\\_\\^|\\,-\\)|\\)-:|:\\'\\(|:\\(|:-\\(|:\\S|T\\.T|\\.\\_\\.|:<|:-\\S|:-<|\\*\\-\\*|:O|=O|=\\-O|O\\.o|XO|O\\_O|:-\\@|=/|:/|X\\-\\(|>\\.<|>=\\(|D:', \"\", tweet)\n",
    "               \n",
    "#trim\n",
    "tweet = tweet.strip('\\'\"')\n",
    "row = tweet\n",
    "\n",
    "print(row)\n",
    "\n",
    "    \n",
    "                \n",
    "                \n",
    "    "
   ]
  },
  {
   "cell_type": "code",
   "execution_count": null,
   "metadata": {
    "collapsed": true
   },
   "outputs": [],
   "source": []
  }
 ],
 "metadata": {
  "kernelspec": {
   "display_name": "Python 3",
   "language": "python",
   "name": "python3"
  },
  "language_info": {
   "codemirror_mode": {
    "name": "ipython",
    "version": 3
   },
   "file_extension": ".py",
   "mimetype": "text/x-python",
   "name": "python",
   "nbconvert_exporter": "python",
   "pygments_lexer": "ipython3",
   "version": "3.6.3"
  }
 },
 "nbformat": 4,
 "nbformat_minor": 2
}
